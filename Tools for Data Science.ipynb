{
 "cells": [
  {
   "cell_type": "markdown",
   "id": "2bfa3276",
   "metadata": {},
   "source": [
    "# My Jupyter Notebook on IBM Watson Studio"
   ]
  },
  {
   "cell_type": "markdown",
   "id": "9c89d32c",
   "metadata": {},
   "source": [
    "**Amritha R J**"
   ]
  },
  {
   "cell_type": "markdown",
   "id": "66d69274",
   "metadata": {},
   "source": [
    "**Student**"
   ]
  },
  {
   "cell_type": "markdown",
   "id": "f964ac53",
   "metadata": {},
   "source": [
    "*I am interested in data science because it is an emerging field of study that has higher applications. Today we have gazillions of data available. We can convert these data into valuable informations. For that we need data science. Data science opens up the best opportunities available in the present and in the nearby future. That's why I am interested in data science.*"
   ]
  },
  {
   "cell_type": "markdown",
   "id": "bc3aaac2",
   "metadata": {},
   "source": [
    "### Addition of two integers"
   ]
  },
  {
   "cell_type": "code",
   "execution_count": 5,
   "id": "737f5bc0",
   "metadata": {},
   "outputs": [
    {
     "name": "stdout",
     "output_type": "stream",
     "text": [
      "10\n"
     ]
    }
   ],
   "source": [
    "num1 = 4\n",
    "num2 = 6\n",
    "Total = num1+num2\n",
    "print(Total)"
   ]
  },
  {
   "cell_type": "markdown",
   "id": "bcf5ce57",
   "metadata": {},
   "source": [
    "- Apple\n",
    "- Orange\n",
    "- Mango\n",
    "\n",
    "1. Train\n",
    "2. Bus\n",
    "3. Car\n",
    "\n",
    "***"
   ]
  },
  {
   "cell_type": "code",
   "execution_count": null,
   "id": "9a293053",
   "metadata": {},
   "outputs": [],
   "source": []
  }
 ],
 "metadata": {
  "kernelspec": {
   "display_name": "Python 3 (ipykernel)",
   "language": "python",
   "name": "python3"
  },
  "language_info": {
   "codemirror_mode": {
    "name": "ipython",
    "version": 3
   },
   "file_extension": ".py",
   "mimetype": "text/x-python",
   "name": "python",
   "nbconvert_exporter": "python",
   "pygments_lexer": "ipython3",
   "version": "3.9.7"
  }
 },
 "nbformat": 4,
 "nbformat_minor": 5
}
